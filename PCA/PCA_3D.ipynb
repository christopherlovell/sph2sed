{
 "cells": [
  {
   "cell_type": "markdown",
   "metadata": {},
   "source": [
    "- Generate a grid of FSPS spectra (in age and metallicity)\n",
    "- perform PCA on this grid\n",
    "- Perform gaussian processes regression on the coefficients "
   ]
  },
  {
   "cell_type": "code",
   "execution_count": 1,
   "metadata": {
    "collapsed": true
   },
   "outputs": [],
   "source": [
    "import numpy as np\n",
    "\n",
    "%matplotlib inline\n",
    "import matplotlib.pyplot as plt\n",
    "\n",
    "from astropy.cosmology import Planck15 as cosmo\n",
    "\n",
    "import fsps\n",
    "\n",
    "from sklearn.decomposition import PCA"
   ]
  },
  {
   "cell_type": "code",
   "execution_count": 63,
   "metadata": {
    "collapsed": true
   },
   "outputs": [],
   "source": [
    "sp = fsps.StellarPopulation(zcontinuous=1, sfh=0, logzsol=0.0, dust_type=2)\n",
    "\n",
    "wl = np.array(sp.get_spectrum(tage=13, peraa=True)).T[:,0]"
   ]
  },
  {
   "cell_type": "markdown",
   "metadata": {},
   "source": [
    "!! high metallicites blow up the SED, not sure why !!"
   ]
  },
  {
   "cell_type": "code",
   "execution_count": 64,
   "metadata": {
    "collapsed": true
   },
   "outputs": [],
   "source": [
    "Nage = 10\n",
    "NZ = 10\n",
    "Ndust = 10\n",
    "\n",
    "ages = np.linspace(2e-1, cosmo.age(0).value, num=Nage)\n",
    "metallicities = np.log(np.linspace(5e-3, 1.4e-2, num=NZ) / 0.0134)  # log(Z / Zsol)\n",
    "extinction = np.linspace(1e-1, 3e-1, num=Ndust)  # log(Z / Zsol)"
   ]
  },
  {
   "cell_type": "code",
   "execution_count": 66,
   "metadata": {},
   "outputs": [],
   "source": [
    "spec = np.zeros((len(ages), len(metallicities), len(extinction), 5994))\n",
    "\n",
    "for i, a in enumerate(ages):\n",
    "    for j, Z in enumerate(metallicities):\n",
    "        for k, e in enumerate(extinction):\n",
    "\n",
    "            sp.params['logzsol'] = Z\n",
    "            sp.params['dust2'] = e\n",
    "\n",
    "            spec[i,j,k] = np.log10(sp.get_spectrum(tage=a, peraa=True)[1])\n"
   ]
  },
  {
   "cell_type": "code",
   "execution_count": 5,
   "metadata": {
    "collapsed": true
   },
   "outputs": [],
   "source": [
    "# plt.semilogx(wl, spec[0,0])"
   ]
  },
  {
   "cell_type": "code",
   "execution_count": 6,
   "metadata": {
    "collapsed": true
   },
   "outputs": [],
   "source": [
    "# for s in spec.reshape((len(ages)*len(metallicities), 5994)):\n",
    "#     plt.semilogx(wl, s, alpha=0.1)\n"
   ]
  },
  {
   "cell_type": "code",
   "execution_count": null,
   "metadata": {
    "collapsed": true
   },
   "outputs": [],
   "source": []
  },
  {
   "cell_type": "markdown",
   "metadata": {},
   "source": [
    "## PCA"
   ]
  },
  {
   "cell_type": "code",
   "execution_count": 68,
   "metadata": {
    "collapsed": true
   },
   "outputs": [],
   "source": [
    "shape = len(ages) * len(metallicities) * len(extinction)"
   ]
  },
  {
   "cell_type": "code",
   "execution_count": 69,
   "metadata": {},
   "outputs": [
    {
     "data": {
      "text/plain": [
       "PCA(copy=True, iterated_power='auto', n_components=40, random_state=None,\n",
       "  svd_solver='auto', tol=0.0, whiten=False)"
      ]
     },
     "execution_count": 69,
     "metadata": {},
     "output_type": "execute_result"
    }
   ],
   "source": [
    "comps = 40\n",
    "spectra_pca = PCA(n_components=comps)\n",
    "spectra_pca.fit(spec.reshape((shape, 5994)))"
   ]
  },
  {
   "cell_type": "code",
   "execution_count": 70,
   "metadata": {},
   "outputs": [
    {
     "name": "stderr",
     "output_type": "stream",
     "text": [
      "/home/chris/anaconda/envs/tensorflow/lib/python3.6/site-packages/matplotlib/axes/_axes.py:545: UserWarning: No labelled objects found. Use label='...' kwarg on individual plots.\n",
      "  warnings.warn(\"No labelled objects found. \"\n"
     ]
    },
    {
     "data": {
      "image/png": "[encoded data removed]",
      "text/plain": [
       "<matplotlib.figure.Figure at 0x7f6bdbd41710>"
      ]
     },
     "metadata": {},
     "output_type": "display_data"
    }
   ],
   "source": [
    "# plt.semilogx(wl, spectra_pca.mean_, label='mean', color='black')\n",
    "\n",
    "for component in spectra_pca.components_:\n",
    "    plt.semilogx(wl, component, alpha=0.5)\n",
    "\n",
    "plt.legend()"
   ]
  },
  {
   "cell_type": "code",
   "execution_count": 71,
   "metadata": {},
   "outputs": [
    {
     "data": {
      "text/plain": [
       "(10, 10, 10, 40)"
      ]
     },
     "execution_count": 71,
     "metadata": {},
     "output_type": "execute_result"
    }
   ],
   "source": [
    "coeffs = np.array(spectra_pca.transform(spec.reshape((shape, 5994))))\n",
    "coeffs = coeffs.reshape((len(ages),len(metallicities),len(extinction),comps))\n",
    "coeffs.shape"
   ]
  },
  {
   "cell_type": "code",
   "execution_count": 76,
   "metadata": {},
   "outputs": [
    {
     "name": "stdout",
     "output_type": "stream",
     "text": [
      "13.7976166641 -0.803495237729 0.122222222222\n"
     ]
    },
    {
     "data": {
      "text/plain": [
       "<matplotlib.text.Text at 0x7f6bdaba5f98>"
      ]
     },
     "execution_count": 76,
     "metadata": {},
     "output_type": "execute_result"
    },
    {
     "data": {
      "image/png": "[encoded data removed]",
      "text/plain": [
       "<matplotlib.figure.Figure at 0x7f6bdb0ad160>"
      ]
     },
     "metadata": {},
     "output_type": "display_data"
    }
   ],
   "source": [
    "# reconstruct SFH\n",
    "i = 9\n",
    "j = 1\n",
    "k = 1\n",
    "\n",
    "print(ages[i], metallicities[j], extinction[k])\n",
    "\n",
    "fig, (ax1,ax2) = plt.subplots(2,1, figsize=(5,6))\n",
    "\n",
    "ax1.semilogx(wl, spec[i,j,k], label='true', alpha=0.6)\n",
    "ax1.semilogx(wl, spectra_pca.mean_ + np.dot(coeffs[i,j,k], spectra_pca.components_), label='recon', alpha=0.6)\n",
    "\n",
    "ax1.legend()\n",
    "\n",
    "ax1.set_ylim(-20, 0)\n",
    "\n",
    "ax2.semilogx(wl, spec[i,j,k] / (spectra_pca.mean_ + np.dot(coeffs[i,j,k], spectra_pca.components_)))\n",
    "\n",
    "ax2.set_xlabel('$\\AA$', size=15)"
   ]
  },
  {
   "cell_type": "code",
   "execution_count": 81,
   "metadata": {},
   "outputs": [
    {
     "data": {
      "image/png": "[encoded data removed]",
      "text/plain": [
       "<matplotlib.figure.Figure at 0x7f6be01269b0>"
      ]
     },
     "metadata": {},
     "output_type": "display_data"
    }
   ],
   "source": [
    "fig, axes = plt.subplots(2,5, figsize=(16,6))\n",
    "\n",
    "axes = axes.flatten()\n",
    "\n",
    "for i, ax in enumerate(axes):\n",
    "    img = ax.pcolormesh(ages, metallicities, coeffs[:,:,1,i].T)\n",
    "    ax.text(12, -0.1, i, color='white')\n",
    "    "
   ]
  },
  {
   "cell_type": "code",
   "execution_count": null,
   "metadata": {
    "collapsed": true
   },
   "outputs": [],
   "source": []
  },
  {
   "cell_type": "markdown",
   "metadata": {},
   "source": [
    "## Regression"
   ]
  },
  {
   "cell_type": "code",
   "execution_count": 107,
   "metadata": {
    "collapsed": true
   },
   "outputs": [],
   "source": [
    "from scipy.interpolate import interp2d, Rbf, RegularGridInterpolator"
   ]
  },
  {
   "cell_type": "code",
   "execution_count": 110,
   "metadata": {},
   "outputs": [],
   "source": [
    "f = [None] * comps\n",
    "\n",
    "xx, yy, zz = np.meshgrid(ages, metallicities, extinction)\n",
    "\n",
    "for i in range(comps):\n",
    "#     f[i] = interp2d(ages, metallicities, coeffs[:,:,i].T, kind='cubic')\n",
    "    f[i] = RegularGridInterpolator((ages, metallicities, extinction), coeffs[:,:,:,i])#, kind='cubic')\n",
    "#     f[i] = Rbf(xx, yy, zz, coeffs[:,:,:,i].T)\n"
   ]
  },
  {
   "cell_type": "code",
   "execution_count": 117,
   "metadata": {},
   "outputs": [
    {
     "ename": "TypeError",
     "evalue": "__call__() takes from 2 to 3 positional arguments but 4 were given",
     "output_type": "error",
     "traceback": [
      "\u001b[0;31m---------------------------------------------------------------------------\u001b[0m",
      "\u001b[0;31mTypeError\u001b[0m                                 Traceback (most recent call last)",
      "\u001b[0;32m<ipython-input-117-7b5d1ba1552d>\u001b[0m in \u001b[0;36m<module>\u001b[0;34m()\u001b[0m\n\u001b[1;32m      1\u001b[0m \u001b[0mtest\u001b[0m \u001b[0;34m=\u001b[0m \u001b[0mRegularGridInterpolator\u001b[0m\u001b[0;34m(\u001b[0m\u001b[0;34m(\u001b[0m\u001b[0mages\u001b[0m\u001b[0;34m,\u001b[0m \u001b[0mmetallicities\u001b[0m\u001b[0;34m,\u001b[0m \u001b[0mextinction\u001b[0m\u001b[0;34m)\u001b[0m\u001b[0;34m,\u001b[0m \u001b[0mcoeffs\u001b[0m\u001b[0;34m[\u001b[0m\u001b[0;34m:\u001b[0m\u001b[0;34m,\u001b[0m\u001b[0;34m:\u001b[0m\u001b[0;34m,\u001b[0m\u001b[0;34m:\u001b[0m\u001b[0;34m,\u001b[0m\u001b[0;36m0\u001b[0m\u001b[0;34m]\u001b[0m\u001b[0;34m)\u001b[0m\u001b[0;34m\u001b[0m\u001b[0m\n\u001b[1;32m      2\u001b[0m \u001b[0;34m\u001b[0m\u001b[0m\n\u001b[0;32m----> 3\u001b[0;31m \u001b[0mtest\u001b[0m\u001b[0;34m(\u001b[0m\u001b[0ma\u001b[0m\u001b[0;34m,\u001b[0m\u001b[0mZ\u001b[0m\u001b[0;34m,\u001b[0m\u001b[0me\u001b[0m\u001b[0;34m)\u001b[0m\u001b[0;34m\u001b[0m\u001b[0m\n\u001b[0m",
      "\u001b[0;31mTypeError\u001b[0m: __call__() takes from 2 to 3 positional arguments but 4 were given"
     ]
    }
   ],
   "source": [
    "test = RegularGridInterpolator((ages, metallicities, extinction), coeffs[:,:,:,0])\n",
    "\n",
    "test(a,Z,e)"
   ]
  },
  {
   "cell_type": "code",
   "execution_count": 121,
   "metadata": {},
   "outputs": [
    {
     "data": {
      "text/plain": [
       "array(-47.29322843849854)"
      ]
     },
     "execution_count": 121,
     "metadata": {},
     "output_type": "execute_result"
    }
   ],
   "source": [
    "test((a,Z,e))"
   ]
  },
  {
   "cell_type": "code",
   "execution_count": null,
   "metadata": {
    "collapsed": true
   },
   "outputs": [],
   "source": []
  },
  {
   "cell_type": "code",
   "execution_count": 125,
   "metadata": {},
   "outputs": [
    {
     "name": "stdout",
     "output_type": "stream",
     "text": [
      "11.1 -0.07 0.2\n",
      "[ -7.46804921e+00  -3.13013421e+01  -9.36244369e+00  -3.04029136e+00\n",
      "   1.54426348e+00  -3.36916328e+00  -4.15395510e-01   1.94742458e+00\n",
      "   1.10644760e-01   1.48173545e+00   1.30583363e-01  -1.36551405e-02\n",
      "   4.79750097e-02  -4.17409987e-01   1.08390566e-01   6.11048400e-02\n",
      "   3.28676547e-01   2.12064425e-02  -1.31723724e-01   2.90325199e-01\n",
      "   4.40472267e-02   1.39407711e-04   2.20056941e-02   6.03062809e-02\n",
      "  -2.85895058e-02   4.67406861e-05  -3.07921061e-02  -1.31234560e-02\n",
      "  -3.61567581e-02   4.34414407e-02   5.69744302e-03  -1.65774354e-02\n",
      "  -1.88408936e-02  -2.21488649e-02   2.57960001e-03  -1.12370837e-02\n",
      "   1.51403442e-02   5.17965665e-02   1.28724412e-02   1.29269533e-02]\n"
     ]
    }
   ],
   "source": [
    "i = 5\n",
    "j = 9\n",
    "k = 8\n",
    "\n",
    "a = ages[i]\n",
    "Z = metallicities[j]\n",
    "e = extinction[k]\n",
    "\n",
    "# print(coeffs[i,j])\n",
    "\n",
    "a = 11.1\n",
    "Z = -0.07\n",
    "e = 0.2\n",
    "\n",
    "print(a,Z,e)\n",
    "\n",
    "interp_coeffs = np.array([f[c]((a, Z, e)) for c in np.arange(comps)]).flatten()\n",
    "print(interp_coeffs)"
   ]
  },
  {
   "cell_type": "code",
   "execution_count": 126,
   "metadata": {
    "collapsed": true
   },
   "outputs": [],
   "source": [
    "sp.params['logzsol'] = Z\n",
    "sp.params['dust2'] = e\n",
    "\n",
    "test_spec = np.log10(sp.get_spectrum(tage=a, peraa=True)).T[:,1]"
   ]
  },
  {
   "cell_type": "code",
   "execution_count": 127,
   "metadata": {},
   "outputs": [
    {
     "data": {
      "text/plain": [
       "<matplotlib.text.Text at 0x7f6bd8de1e80>"
      ]
     },
     "execution_count": 127,
     "metadata": {},
     "output_type": "execute_result"
    },
    {
     "data": {
      "image/png": "[encoded data removed]",
      "text/plain": [
       "<matplotlib.figure.Figure at 0x7f6bda381d30>"
      ]
     },
     "metadata": {},
     "output_type": "display_data"
    }
   ],
   "source": [
    "fig, (ax1,ax2) = plt.subplots(2,1, figsize=(5,6))\n",
    "\n",
    "ax1.semilogx(wl, test_spec, label='true', alpha=0.6)\n",
    "ax1.semilogx(wl, spectra_pca.mean_ + np.dot(interp_coeffs, spectra_pca.components_), label='recon', alpha=0.6)\n",
    "\n",
    "ax1.legend()\n",
    "\n",
    "ax1.set_ylim(-20, 0)\n",
    "\n",
    "ax2.semilogx(wl, test_spec / (spectra_pca.mean_ + np.dot(interp_coeffs, spectra_pca.components_)))\n",
    "\n",
    "ax2.set_xlabel('$\\AA$', size=15)"
   ]
  },
  {
   "cell_type": "code",
   "execution_count": null,
   "metadata": {
    "collapsed": true
   },
   "outputs": [],
   "source": []
  }
 ],
 "metadata": {
  "kernelspec": {
   "display_name": "Python 3",
   "language": "python",
   "name": "python3"
  },
  "language_info": {
   "codemirror_mode": {
    "name": "ipython",
    "version": 3
   },
   "file_extension": ".py",
   "mimetype": "text/x-python",
   "name": "python",
   "nbconvert_exporter": "python",
   "pygments_lexer": "ipython3",
   "version": "3.6.1"
  }
 },
 "nbformat": 4,
 "nbformat_minor": 2
}
