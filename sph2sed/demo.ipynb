{
 "cells": [
  {
   "cell_type": "code",
   "execution_count": 1,
   "metadata": {
    "collapsed": true
   },
   "outputs": [],
   "source": [
    "import numpy as np\n",
    "import pickle as pcl\n",
    "\n",
    "%matplotlib inline\n",
    "import matplotlib.pyplot as plt\n",
    "from matplotlib import rc\n",
    "rc('font',**{'family':'sans-serif','sans-serif':['Helvetica']})\n",
    "rc('text', usetex=False)\n",
    "\n",
    "import sys\n",
    "sys.path.append('/research/astro/highz/Students/Chris/sed_modelling')\n",
    "\n",
    "import sph2sed"
   ]
  },
  {
   "cell_type": "markdown",
   "metadata": {},
   "source": [
    "If the intrinsic SED grid has not yet been generated, generate a new one and pickle"
   ]
  },
  {
   "cell_type": "code",
   "execution_count": 2,
   "metadata": {
    "collapsed": true
   },
   "outputs": [],
   "source": [
    "# sph2sed.intrinsic.fsps.pickle_grid(Nage=60, NZ=15)"
   ]
  },
  {
   "cell_type": "markdown",
   "metadata": {},
   "source": [
    "Initialise sed object"
   ]
  },
  {
   "cell_type": "code",
   "execution_count": 3,
   "metadata": {
    "collapsed": true
   },
   "outputs": [],
   "source": [
    "sp = sph2sed.model.sed()"
   ]
  },
  {
   "cell_type": "markdown",
   "metadata": {},
   "source": [
    "load intrinsic SED from pickle"
   ]
  },
  {
   "cell_type": "code",
   "execution_count": 4,
   "metadata": {},
   "outputs": [
    {
     "name": "stdout",
     "output_type": "stream",
     "text": [
      "Loading fsps model from: \n",
      "\n",
      "/research/astro/highz/Students/Chris/sed_modelling/sph2sed/intrinsic/output/fsps.p\n",
      "\n",
      "Age array not sorted ascendingly. Sorting...\n",
      "\n"
     ]
    }
   ],
   "source": [
    "sp.load_grid()"
   ]
  },
  {
   "cell_type": "markdown",
   "metadata": {},
   "source": [
    "Now have intrinsic `grid`, with arrays for `metallicity`, `age` and `wavelength`"
   ]
  },
  {
   "cell_type": "code",
   "execution_count": 5,
   "metadata": {},
   "outputs": [
    {
     "data": {
      "text/plain": [
       "(15, 60, 5994)"
      ]
     },
     "execution_count": 5,
     "metadata": {},
     "output_type": "execute_result"
    }
   ],
   "source": [
    "sp.grid.shape"
   ]
  },
  {
   "cell_type": "code",
   "execution_count": 6,
   "metadata": {},
   "outputs": [
    {
     "data": {
      "text/plain": [
       "array([ 0.23622047,  0.50056243,  0.76490439,  1.02924634,  1.2935883 ,\n",
       "        1.55793026,  1.82227222,  2.08661417,  2.35095613,  2.61529809,\n",
       "        2.87964004,  3.143982  ,  3.40832396,  3.67266592,  3.93700787])"
      ]
     },
     "execution_count": 6,
     "metadata": {},
     "output_type": "execute_result"
    }
   ],
   "source": [
    "sp.metallicity"
   ]
  },
  {
   "cell_type": "code",
   "execution_count": 7,
   "metadata": {},
   "outputs": [
    {
     "data": {
      "text/plain": [
       "array([ 0.08062241,  0.28238846,  0.40788448,  0.50421563,  0.58254087,\n",
       "        0.64780277,  0.70278328,  0.74931678,  0.78875581,  0.82217371,\n",
       "        0.85046026,  0.87437039,  0.89455157,  0.91156104,  0.92587834,\n",
       "        0.93791525,  0.94802437,  0.95650671,  0.96361845,  0.96957704,\n",
       "        0.97456659,  0.97874265,  0.98223643,  0.98515837,  0.98760135,\n",
       "        0.98964339,  0.99134992,  0.99277584,  0.9939671 ,  0.9949622 ,\n",
       "        0.99579336,  0.99648753,  0.99706724,  0.99755135,  0.99795559,\n",
       "        0.99829312,  0.99857495,  0.99881027,  0.99900674,  0.99917077,\n",
       "        0.99930771,  0.99942205,  0.9995175 ,  0.99959719,  0.99966372,\n",
       "        0.99971927,  0.99976564,  0.99980435,  0.99983666,  0.99986364,\n",
       "        0.99988616,  0.99990497,  0.99992066,  0.99993377,  0.99994471,\n",
       "        0.99995384,  0.99996147,  0.99996783,  0.99997315,  0.99997758])"
      ]
     },
     "execution_count": 7,
     "metadata": {},
     "output_type": "execute_result"
    }
   ],
   "source": [
    "sp.age"
   ]
  },
  {
   "cell_type": "code",
   "execution_count": 8,
   "metadata": {},
   "outputs": [
    {
     "data": {
      "text/plain": [
       "array([  9.10000000e+01,   9.40000000e+01,   9.60000000e+01, ...,\n",
       "         9.81700000e+07,   9.90800000e+07,   1.00000000e+08])"
      ]
     },
     "execution_count": 8,
     "metadata": {},
     "output_type": "execute_result"
    }
   ],
   "source": [
    "sp.wavelength"
   ]
  },
  {
   "cell_type": "markdown",
   "metadata": {},
   "source": [
    "Load some hydro particle data"
   ]
  },
  {
   "cell_type": "code",
   "execution_count": 9,
   "metadata": {
    "collapsed": true
   },
   "outputs": [],
   "source": [
    "pickle = pcl.load(open(\"data/full_histories_eagle.p\", \"rb\"), encoding='latin1')\n",
    "\n",
    "## Eagle mass multiplier\n",
    "for key, value in pickle['data'].items():\n",
    "    value['history']['InitialStellarMass'] *= 1e10\n"
   ]
  },
  {
   "cell_type": "code",
   "execution_count": 10,
   "metadata": {},
   "outputs": [],
   "source": [
    "for key, value in pickle['data'].items():\n",
    "    \n",
    "    sp.insert_galaxy(key, value['history']['InitialStellarMass'],\n",
    "                     value['history']['formationTime'],\n",
    "                     value['history']['Metallicity'],\n",
    "                     Metallicity=value['SF/Metallicity'],\n",
    "                     StellarMass=value['mstar'],\n",
    "                     SFR=value['sfr'])\n"
   ]
  },
  {
   "cell_type": "code",
   "execution_count": 38,
   "metadata": {},
   "outputs": [],
   "source": [
    "# print(sp.galaxies.keys())\n",
    "idx = 395264\n",
    "sp.intrinsic_spectra(idx)"
   ]
  },
  {
   "cell_type": "code",
   "execution_count": 39,
   "metadata": {},
   "outputs": [],
   "source": [
    "sp.dust_screen(idx, metal_dependent=False)"
   ]
  },
  {
   "cell_type": "code",
   "execution_count": 40,
   "metadata": {},
   "outputs": [
    {
     "name": "stdout",
     "output_type": "stream",
     "text": [
      "Adding metallicity dependence to optical depth values\n"
     ]
    }
   ],
   "source": [
    "sp.dust_screen(idx, metal_dependent=True)"
   ]
  },
  {
   "cell_type": "code",
   "execution_count": 42,
   "metadata": {},
   "outputs": [
    {
     "data": {
      "text/plain": [
       "(910.0, 10000.0)"
      ]
     },
     "execution_count": 42,
     "metadata": {},
     "output_type": "execute_result"
    },
    {
     "name": "stderr",
     "output_type": "stream",
     "text": [
      "/home/c/cl/cl478/.conda/envs/tensorflow/lib/python3.6/site-packages/matplotlib/font_manager.py:1297: UserWarning: findfont: Font family ['sans-serif'] not found. Falling back to DejaVu Sans\n",
      "  (prop.get_family(), self.defaultFamily[fontext]))\n"
     ]
    },
    {
     "data": {
      "image/png": "[encoded data removed]",
      "text/plain": [
       "<matplotlib.figure.Figure at 0x2aab3e08ac18>"
      ]
     },
     "metadata": {},
     "output_type": "display_data"
    }
   ],
   "source": [
    "plt.semilogx(sp.wavelength, sp.galaxies[idx]['Screen Spectra'], label='Screen', alpha=0.5)\n",
    "plt.semilogx(sp.wavelength, sp.galaxies[idx]['Z-Screen Spectra'], label='Z-Screen', alpha=0.5)\n",
    "plt.semilogx(sp.wavelength, sp.galaxies[idx]['Intrinsic Spectra'], label='Intrinsic', alpha=0.5)\n",
    "plt.legend()\n",
    "\n",
    "plt.xlim(9.1e2, 1e4)"
   ]
  },
  {
   "cell_type": "code",
   "execution_count": null,
   "metadata": {},
   "outputs": [],
   "source": []
  }
 ],
 "metadata": {
  "kernelspec": {
   "display_name": "Python 3",
   "language": "python",
   "name": "python3"
  },
  "language_info": {
   "codemirror_mode": {
    "name": "ipython",
    "version": 3
   },
   "file_extension": ".py",
   "mimetype": "text/x-python",
   "name": "python",
   "nbconvert_exporter": "python",
   "pygments_lexer": "ipython3",
   "version": "3.6.2"
  }
 },
 "nbformat": 4,
 "nbformat_minor": 2
}
