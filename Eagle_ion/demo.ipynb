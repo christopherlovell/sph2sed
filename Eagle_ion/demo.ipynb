{
 "cells": [
  {
   "cell_type": "markdown",
   "metadata": {},
   "source": [
    "## SED modelling\n",
    "\n",
    "Demo notebook on how to generate SED for subhalo based on stellar particle information, and optionally extract reionisation parameters."
   ]
  },
  {
   "cell_type": "code",
   "execution_count": 24,
   "metadata": {
    "collapsed": false
   },
   "outputs": [],
   "source": [
    "import numpy as np\n",
    "import pickle as pcl\n",
    "from bisect import bisect\n",
    "from scipy.stats import binned_statistic\n",
    "\n",
    "import astropy.units as u\n",
    "from astropy.cosmology import Planck13, z_at_value"
   ]
  },
  {
   "cell_type": "code",
   "execution_count": 25,
   "metadata": {
    "collapsed": true
   },
   "outputs": [],
   "source": [
    "%matplotlib inline\n",
    "import matplotlib.pyplot as plt\n",
    "\n",
    "import matplotlib.gridspec as gridspec\n",
    "\n",
    "from matplotlib import rc\n",
    "rc('font',**{'family':'sans-serif','sans-serif':['Helvetica']})\n",
    "rc('text', usetex=True)\n",
    "\n",
    "from palettable.colorbrewer.qualitative import Set2_7"
   ]
  },
  {
   "cell_type": "code",
   "execution_count": null,
   "metadata": {
    "collapsed": true
   },
   "outputs": [],
   "source": [
    "import calcsed"
   ]
  },
  {
   "cell_type": "code",
   "execution_count": 2,
   "metadata": {
    "collapsed": true
   },
   "outputs": [],
   "source": [
    "c = 2.99792E8"
   ]
  },
  {
   "cell_type": "markdown",
   "metadata": {},
   "source": [
    "Load Subhalo properties"
   ]
  },
  {
   "cell_type": "code",
   "execution_count": 3,
   "metadata": {
    "collapsed": true
   },
   "outputs": [],
   "source": [
    "tag = '004_z008p075' #'003_z008p988' #'005_z007p050' # \n",
    "\n",
    "data = pcl.load(open('subfind_output/subhalo_ids_'+tag+'.p','rb'))#, encoding='latin1')\n",
    "\n",
    "sim_z = data['header']['simulation redshift']\n",
    "sim_age = data['header']['simulation age']\n",
    "h = data['header']['hubble param']\n",
    "\n",
    "subhalos = data['data']\n",
    "\n",
    "del(data)"
   ]
  },
  {
   "cell_type": "markdown",
   "metadata": {},
   "source": [
    "Choose a single SPS model"
   ]
  },
  {
   "cell_type": "code",
   "execution_count": 4,
   "metadata": {
    "collapsed": true
   },
   "outputs": [],
   "source": [
    "models = ['BC03_Padova1994_Salpeter_lr', 'BPASSv2_imf135all_100', 'BPASSv2_imf135all_100-bin', \n",
    "          'P2_Salpeter_ng', 'M05_Salpeter_rhb', 'FSPS_default_Salpeter']\n",
    "\n",
    "models_pretty = ['BC03','BPASS','BPASS-bin','PEGASE.2','M05','FSPS']\n",
    "\n",
    "model = models[3]"
   ]
  },
  {
   "cell_type": "markdown",
   "metadata": {},
   "source": [
    "Load SED data for that SPS model"
   ]
  },
  {
   "cell_type": "code",
   "execution_count": 5,
   "metadata": {
    "collapsed": true
   },
   "outputs": [],
   "source": [
    "data = pcl.load(open('../Input_SPS/model_pickles/'+model+'.p', 'rb'))#, encoding='latin1')\n",
    "  \n",
    "raw_sed = data['SED'] # ergs s^-1 Hz^-1\n",
    "Z = data['metallicities']  # metallicity\n",
    "ages = data['ages']  # Myr\n",
    "wavelength = data['lam'] # [ microns ]\n",
    "frequency = c/(wavelength*1e-6)  # [ s^-1 ]\n",
    "del(data)"
   ]
  },
  {
   "cell_type": "markdown",
   "metadata": {},
   "source": [
    "calculate scale factor for all ages in SED tables"
   ]
  },
  {
   "cell_type": "code",
   "execution_count": 6,
   "metadata": {
    "collapsed": false
   },
   "outputs": [],
   "source": [
    "particle_ages = sim_age - (ages * 10**-3)  # convert to age in simulation snapshot\n",
    "\n",
    "a = []\n",
    "for p in particle_ages:  # convert to scale factor (to match particle values)\n",
    "    if(p > 0.0001):\n",
    "        a.append(1 / (1 + (z_at_value(Planck13.age, p * u.Gyr))))\n",
    "        \n",
    "a = np.array(a)"
   ]
  },
  {
   "cell_type": "markdown",
   "metadata": {},
   "source": [
    "filter by age values above 0"
   ]
  },
  {
   "cell_type": "code",
   "execution_count": 7,
   "metadata": {
    "collapsed": true
   },
   "outputs": [],
   "source": [
    "raw_sed = raw_sed[:,:len(a)]"
   ]
  },
  {
   "cell_type": "markdown",
   "metadata": {},
   "source": [
    "### Calculate SED and $\\xi_{\\mathrm{ion}}$ for a single subhalo"
   ]
  },
  {
   "cell_type": "code",
   "execution_count": 19,
   "metadata": {
    "collapsed": false
   },
   "outputs": [],
   "source": [
    "subhalo = [subhalos[0]]\n",
    "\n",
    "sed = calcsed.calculate_sed(subhalo, raw_sed, Z, a)[0] # ergs s^-1 Hz^-1 \n",
    "\n",
    "Lnu = sed * 1e-7 / 3.828e26 # L_{\\odot} Hz^-1"
   ]
  },
  {
   "cell_type": "code",
   "execution_count": 9,
   "metadata": {
    "collapsed": false
   },
   "outputs": [
    {
     "data": {
      "text/plain": [
       "(1e-12, 1e-08)"
      ]
     },
     "execution_count": 9,
     "metadata": {},
     "output_type": "execute_result"
    },
    {
     "data": {
      "image/png": "[encoded data removed]",
      "text/plain": [
       "<matplotlib.figure.Figure at 0x1db0890>"
      ]
     },
     "metadata": {},
     "output_type": "display_data"
    }
   ],
   "source": [
    "fig, ax = plt.subplots(1,1,figsize=(7,5))\n",
    "\n",
    "ax.loglog(wavelength * 1e4, Lnu)\n",
    "\n",
    "ax.set_xlabel('$\\AA$', size=20)\n",
    "ax.set_ylabel('$L_{\\\\nu}$', size=20)\n",
    "\n",
    "ax.vlines(912, 1e-12, 1e-9, linestyle='dashed', color='grey')\n",
    "\n",
    "ax.set_ylim(1e-12, 1e-8)\n",
    "# ax.set_xlim(0,2.5)"
   ]
  },
  {
   "cell_type": "markdown",
   "metadata": {},
   "source": [
    "Calculate $\\xi_{\\mathrm{ion}}$"
   ]
  },
  {
   "cell_type": "code",
   "execution_count": 10,
   "metadata": {
    "collapsed": false
   },
   "outputs": [
    {
     "data": {
      "text/plain": [
       "8.0320047530150715e+24"
      ]
     },
     "execution_count": 10,
     "metadata": {},
     "output_type": "execute_result"
    }
   ],
   "source": [
    "calcsed.calculate_xi_ion(Lnu, frequency) # erg^-1 Hz"
   ]
  },
  {
   "cell_type": "markdown",
   "metadata": {},
   "source": [
    "### Calculate $\\xi_{\\mathrm{ion}}$ for all subhalos"
   ]
  },
  {
   "cell_type": "code",
   "execution_count": 20,
   "metadata": {
    "collapsed": true
   },
   "outputs": [],
   "source": [
    "sed = calcsed.calculate_sed(subhalos, raw_sed, Z, a) # ergs s^-1 Hz^-1 \n",
    "\n",
    "Lnu = [s * 1e-7 / 3.828e26 for s in sed] # L_{\\odot} Hz^-1\n",
    "\n",
    "xi_ion = [calcsed.calculate_xi_ion(lnu, frequency) for lnu in Lnu]"
   ]
  },
  {
   "cell_type": "code",
   "execution_count": 21,
   "metadata": {
    "collapsed": false
   },
   "outputs": [],
   "source": [
    "mstar = [np.log10(np.sum(subhalo['stellar mass']) * 1e6) for subhalo in subhalos]"
   ]
  },
  {
   "cell_type": "code",
   "execution_count": 22,
   "metadata": {
    "collapsed": false,
    "scrolled": true
   },
   "outputs": [
    {
     "data": {
      "text/plain": [
       "<matplotlib.text.Text at 0x4a3ced0>"
      ]
     },
     "execution_count": 22,
     "metadata": {},
     "output_type": "execute_result"
    },
    {
     "data": {
      "image/png": "[encoded data removed]",
      "text/plain": [
       "<matplotlib.figure.Figure at 0x4f63390>"
      ]
     },
     "metadata": {},
     "output_type": "display_data"
    }
   ],
   "source": [
    "plt.plot(mstar, np.log10(xi_ion), '.')\n",
    "\n",
    "plt.xlabel('$M_{*} / M_{\\odot}$')\n",
    "plt.ylabel('$\\\\xi_{\\mathrm{ion}}$')"
   ]
  },
  {
   "cell_type": "markdown",
   "metadata": {},
   "source": [
    "### Calculate $\\xi_{\\mathrm{ion}}$ for all SPS models"
   ]
  },
  {
   "cell_type": "code",
   "execution_count": 55,
   "metadata": {
    "collapsed": false
   },
   "outputs": [
    {
     "name": "stdout",
     "output_type": "stream",
     "text": [
      "Model: BC03_Padova1994_Salpeter_lr\n",
      "Model: BPASSv2_imf135all_100\n",
      "Model: BPASSv2_imf135all_100-bin\n",
      "Model: P2_Salpeter_ng\n",
      "Model: M05_Salpeter_rhb\n",
      "Model: FSPS_default_Salpeter\n"
     ]
    }
   ],
   "source": [
    "xi_ion = [[] for i in range(len(models))]\n",
    "\n",
    "for i, model in enumerate(models):\n",
    "    \n",
    "    print \"Model:\",model\n",
    "    \n",
    "    data = pcl.load(open('../Input_SPS/model_pickles/'+model+'.p', 'rb'))#, encoding='latin1')\n",
    "  \n",
    "    raw_sed = data['SED'] # ergs s^-1 Hz^-1\n",
    "    Z = data['metallicities']  # metallicity\n",
    "    ages = data['ages']  # Myr\n",
    "    wavelength = data['lam'] # [ microns ]\n",
    "    frequency = c/(wavelength*1e-6)  # [ s^-1 ]\n",
    "    del(data)\n",
    "    \n",
    "    particle_ages = sim_age - (ages * 10**-3)  # convert to age in simulation snapshot\n",
    "\n",
    "    a = []\n",
    "    for p in particle_ages:  # convert to scale factor (to match particle values)\n",
    "        if(p > 0.0001):\n",
    "            a.append(1 / (1 + (z_at_value(Planck13.age, p * u.Gyr))))\n",
    "\n",
    "    a = np.array(a)\n",
    "\n",
    "    raw_sed = raw_sed[:,:len(a)]\n",
    "    \n",
    "    sed = calcsed.calculate_sed(subhalos, raw_sed, Z, a) # ergs s^-1 Hz^-1 \n",
    "\n",
    "    Lnu = [s * 1e-7 / 3.828e26 for s in sed] # L_{\\odot} Hz^-1\n",
    "\n",
    "    xi_ion[i] = [calcsed.calculate_xi_ion(lnu, frequency) for lnu in Lnu]\n",
    "    "
   ]
  },
  {
   "cell_type": "code",
   "execution_count": 14,
   "metadata": {
    "collapsed": true
   },
   "outputs": [],
   "source": [
    "# pcl.dump(xi_ion, open('xi_ion.p','w'))\n",
    "xi_ion = pcl.load(open('xi_ion.p','r'))"
   ]
  },
  {
   "cell_type": "code",
   "execution_count": 15,
   "metadata": {
    "collapsed": false
   },
   "outputs": [],
   "source": [
    "mstar = [np.log10(np.sum(subhalo['stellar mass']) * 1e6) for subhalo in subhalos]"
   ]
  },
  {
   "cell_type": "code",
   "execution_count": 16,
   "metadata": {
    "collapsed": true
   },
   "outputs": [],
   "source": [
    "massBinLimits = np.linspace(7.1, 11.1, 21)\n",
    "massBins = np.logspace(7.2, 11.0, 20)"
   ]
  },
  {
   "cell_type": "code",
   "execution_count": 17,
   "metadata": {
    "collapsed": false
   },
   "outputs": [
    {
     "data": {
      "image/png": "[encoded data removed]",
      "text/plain": [
       "<matplotlib.figure.Figure at 0x4d04710>"
      ]
     },
     "metadata": {},
     "output_type": "display_data"
    }
   ],
   "source": [
    "fig, ((ax1,ax2), (ax3,ax4), (ax5,ax6)) = plt.subplots(3, 2, figsize=(7,9), sharex=True, sharey=True)\n",
    "\n",
    "fig.subplots_adjust(wspace=0, hspace=0)\n",
    "\n",
    "fig.text(0.5, 0.04, \"$M_{*} / M_{\\odot}$\", ha='center')\n",
    "fig.text(0.03, 0.5, \"$\\mathrm{log_{10}}( \\\\xi_{ion} / (\\mathrm{erg}^{-1} \\mathrm{Hz}))$\", \n",
    "         va='center', rotation='vertical')\n",
    "\n",
    "axes = [ax1,ax2,ax3,ax4,ax5,ax6]\n",
    "\n",
    "for model, pretty, xi, ax in zip(models, models_pretty, xi_ion, axes):\n",
    "\n",
    "    median, dump, dump = binned_statistic(mstar, xi, statistic='median', bins=10**massBinLimits)\n",
    "    p16, dump, dump = binned_statistic(mstar, xi, statistic=lambda y: np.percentile(y, 16), bins=10**massBinLimits)\n",
    "    p84, dump, dump = binned_statistic(mstar, xi, statistic=lambda y: np.percentile(y, 84), bins=10**massBinLimits)\n",
    "    \n",
    "    ax.set_xscale('log')\n",
    " \n",
    "    ax.plot(mstar, np.log10(xi), '.', alpha=0.5)\n",
    "\n",
    "    mask = massBins < 5e9\n",
    "    ax.errorbar(massBins[mask], np.log10(median[mask]), \n",
    "                yerr=[np.log10(median[mask])-np.log10(p16[mask]), \n",
    "                np.log10(p84[mask])-np.log10(median[mask])], \n",
    "                linestyle='none', marker = 'o', zorder=32)\n",
    "    \n",
    "    ax.set_xlim(8, 10)\n",
    "    ax.set_ylim(24.8,25.8)\n",
    "\n",
    "    ax.annotate(pretty, xy=(0.96,0.05), xycoords='axes fraction', horizontalalignment='right', color='grey')\n",
    "    \n"
   ]
  },
  {
   "cell_type": "markdown",
   "metadata": {
    "collapsed": true
   },
   "source": [
    "### Bluetides comparison"
   ]
  },
  {
   "cell_type": "code",
   "execution_count": 14,
   "metadata": {
    "collapsed": false
   },
   "outputs": [],
   "source": [
    "from bigfile import BigFile\n",
    "\n",
    "b_data_dir = '/research/astro/highz/Simulations/BlueTides/data/'\n",
    "SPS_dir = '/research/astro/highz/SPS/'\n",
    "b_snap = '086'\n",
    "b_z = 8.\n",
    "\n",
    "h = 0.7"
   ]
  },
  {
   "cell_type": "code",
   "execution_count": 15,
   "metadata": {
    "collapsed": false
   },
   "outputs": [],
   "source": [
    "# Open BlueTides snapshot\n",
    "# current_age = np.interp(z, redshifts, age_of_universe)\n",
    "\n",
    "snapshot = BigFile(b_data_dir + 'PIG_' + b_snap)"
   ]
  },
  {
   "cell_type": "code",
   "execution_count": 16,
   "metadata": {
    "collapsed": true
   },
   "outputs": [],
   "source": [
    "# ----- Get stellar masses\n",
    "stellar_masses = snapshot['FOFGroups/MassByType'][:][:,4]/h * 1E10"
   ]
  },
  {
   "cell_type": "code",
   "execution_count": 17,
   "metadata": {
    "collapsed": false
   },
   "outputs": [
    {
     "data": {
      "text/plain": [
       "(200062344,)"
      ]
     },
     "execution_count": 17,
     "metadata": {},
     "output_type": "execute_result"
    }
   ],
   "source": [
    "stellar_masses.shape"
   ]
  },
  {
   "cell_type": "code",
   "execution_count": null,
   "metadata": {
    "collapsed": true
   },
   "outputs": [],
   "source": []
  },
  {
   "cell_type": "code",
   "execution_count": null,
   "metadata": {
    "collapsed": true
   },
   "outputs": [],
   "source": [
    "a = snapshot['4/StarFormationTime'][sel]\n",
    "\n",
    "ages = current_age - np.interp(a, scale_factors[::-1], age_of_universe[::-1])\n",
    "\n",
    "metallicities = snapshot['4/Metallicity'][sel]\n",
    "\n",
    "MetSurfaceDensity = snapshot['4/MetSurfaceDensity'][sel]"
   ]
  },
  {
   "cell_type": "code",
   "execution_count": null,
   "metadata": {
    "collapsed": true
   },
   "outputs": [],
   "source": []
  },
  {
   "cell_type": "markdown",
   "metadata": {},
   "source": [
    "### ! Deprecated "
   ]
  },
  {
   "cell_type": "code",
   "execution_count": null,
   "metadata": {
    "collapsed": true
   },
   "outputs": [],
   "source": [
    "## ---- 2D histogram\n",
    "\n",
    "xbins = 10**np.linspace(8, 10, 20)\n",
    "ybins = np.linspace(25, 26, 15)\n",
    "\n",
    "counts, xedges, yedges = np.histogram2d(mass, np.log10(xi_ion), bins=([xbins, ybins]))\n",
    "\n",
    "extent = [yedges[0], yedges[-1], xedges[0], xedges[-1]]\n",
    "\n",
    "fig, ax = plt.subplots()\n",
    "#ax.pcolormesh(xbins, ybins, counts.T)\n",
    "\n",
    "levels = (1e1, 3e1, 1e2, 2e2)\n",
    "cset = contour(counts.T, levels, origin='lower', colors=['black', 'green', 'blue', 'red'], linewidths=(1.9, 1.6, 1.5, 1.4), extent=extent)\n",
    "\n",
    "#plt.clabel(cset, inline=1, fontsize=10, fmt='%1.0i')\n",
    "\n",
    "for c in cset.collections:\n",
    "    c.set_linestyle('solid')\n",
    "\n",
    "    ax.set_xscale('log')\n",
    " \n",
    "    plt.show()"
   ]
  },
  {
   "cell_type": "code",
   "execution_count": null,
   "metadata": {
    "collapsed": true
   },
   "outputs": [],
   "source": [
    "### xi_ion as a function of age\n",
    "fig, axes = plt.subplots(3,2,sharex='col', sharey='row')\n",
    "\n",
    "fig.text(0.5, 0.04, r\"$log_{10}$(age)\", ha='center')\n",
    "fig.text(0.03, 0.5, r\"$log_{10}(\\xi_{ion})$\", ha='center', rotation='vertical')\n",
    "\n",
    "for m,ax in zip(models,axes.flatten()):\n",
    "\n",
    "    data = pcl.load(open('../Input_SPS/model_pickles/'+m+'.p', 'rb'))#, encoding='latin1')\n",
    "\n",
    "    sed = data['SED'] # erg cm^-2 s^-1\n",
    "    Z = data['metallicities']  # metallicity\n",
    "    ages = data['ages']  # Myr\n",
    "    wavelength = data['lam']  # [ AA ]\n",
    "    frequency = c/(wavelength*1E-6)  # [ s^-1 ]\n",
    "        \n",
    "    # sum sed values for a given metallicity / age\n",
    "    \n",
    "    xi_ion = np.zeros(sed.shape[1])\n",
    "    \n",
    "    for j in xrange(sed.shape[0]):\n",
    "        for i in xrange(sed.shape[1]): \n",
    "            xi_ion[i] = np.log10(calculate_xi_ion(sed[j,i],frequency,1e9))\n",
    "        \n",
    "        ax.plot(np.log10(ages),xi_ion)\n",
    "\n",
    "    ax.annotate(m,xy=(-1,min(xi_ion)))\n"
   ]
  }
 ],
 "metadata": {
  "kernelspec": {
   "display_name": "Python 2",
   "language": "python",
   "name": "python2"
  },
  "language_info": {
   "codemirror_mode": {
    "name": "ipython",
    "version": 2
   },
   "file_extension": ".py",
   "mimetype": "text/x-python",
   "name": "python",
   "nbconvert_exporter": "python",
   "pygments_lexer": "ipython2",
   "version": "2.7.5"
  }
 },
 "nbformat": 4,
 "nbformat_minor": 2
}
