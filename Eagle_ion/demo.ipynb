{
 "cells": [
  {
   "cell_type": "markdown",
   "metadata": {},
   "source": [
    "## SED modelling\n",
    "\n",
    "Demo notebook on how to generate SED for subhalo based on stellar particle information, and optionally extract reionisation parameters."
   ]
  },
  {
   "cell_type": "code",
   "execution_count": 1,
   "metadata": {
    "collapsed": false
   },
   "outputs": [],
   "source": [
    "from eagle_ion_methods import update_weights\n",
    "from eagle_ion_methods import calculate_sed\n",
    "from eagle_ion_methods import calculate_xi_ion\n",
    "\n",
    "from bisect import bisect\n",
    "\n",
    "%matplotlib inline\n",
    "import matplotlib.pyplot as plt\n",
    "\n",
    "import pickle as pcl\n",
    "import numpy as np\n",
    "\n",
    "import astropy.units as u\n",
    "from astropy.cosmology import Planck13, z_at_value\n",
    "\n",
    "import multiprocessing\n",
    "import sys\n",
    "\n",
    "from functools import partial"
   ]
  },
  {
   "cell_type": "code",
   "execution_count": 2,
   "metadata": {
    "collapsed": true
   },
   "outputs": [],
   "source": [
    "c = 2.99792E8"
   ]
  },
  {
   "cell_type": "markdown",
   "metadata": {},
   "source": [
    "Load Subhalo properties"
   ]
  },
  {
   "cell_type": "code",
   "execution_count": 3,
   "metadata": {
    "collapsed": true
   },
   "outputs": [],
   "source": [
    "tag = '004_z008p075' #'003_z008p988' #'005_z007p050' # \n",
    "\n",
    "data = pcl.load(open('subfind_output/subhalo_ids_'+tag+'.p','rb'))#, encoding='latin1')\n",
    "\n",
    "sim_z = data['header']['simulation redshift']\n",
    "sim_age = data['header']['simulation age']\n",
    "h = data['header']['hubble param']\n",
    "\n",
    "subhalos = data['data']\n",
    "\n",
    "del(data)"
   ]
  },
  {
   "cell_type": "markdown",
   "metadata": {},
   "source": [
    "Choose a single SPS model"
   ]
  },
  {
   "cell_type": "code",
   "execution_count": 4,
   "metadata": {
    "collapsed": true
   },
   "outputs": [],
   "source": [
    "models = ['BC03_Padova1994_Salpeter_lr', 'BPASSv2_imf135all_100', 'BPASSv2_imf135all_100-bin', \n",
    "          'P2_Salpeter_ng', 'M05_Salpeter_rhb', 'FSPS_default_Salpeter']\n",
    "\n",
    "model = models[3]"
   ]
  },
  {
   "cell_type": "markdown",
   "metadata": {},
   "source": [
    "Load SED data for that SPS model"
   ]
  },
  {
   "cell_type": "code",
   "execution_count": 5,
   "metadata": {
    "collapsed": true
   },
   "outputs": [],
   "source": [
    "data = pcl.load(open('../Input_SPS/model_pickles/'+model+'.p', 'rb'))#, encoding='latin1')\n",
    "  \n",
    "raw_sed = data['SED'] # ergs s^-1 Hz^-1\n",
    "Z = data['metallicities']  # metallicity\n",
    "ages = data['ages']  # Myr\n",
    "wavelength = data['lam'] # [ microns ]\n",
    "frequency = c/(wavelength*1e-6)  # [ s^-1 ]\n",
    "del(data)"
   ]
  },
  {
   "cell_type": "markdown",
   "metadata": {},
   "source": [
    "calculate scale factor for all ages in SED tables"
   ]
  },
  {
   "cell_type": "code",
   "execution_count": 6,
   "metadata": {
    "collapsed": false
   },
   "outputs": [],
   "source": [
    "particle_ages = sim_age - (ages * 10**-3)  # convert to age in simulation snapshot\n",
    "\n",
    "a = []\n",
    "for p in particle_ages:  # convert to scale factor (to match particle values)\n",
    "    if(p > 0.0001):\n",
    "        a.append(1 / (1 + (z_at_value(Planck13.age, p * u.Gyr))))\n",
    "        \n",
    "a = np.array(a)"
   ]
  },
  {
   "cell_type": "markdown",
   "metadata": {},
   "source": [
    "filter by age values above 0"
   ]
  },
  {
   "cell_type": "code",
   "execution_count": 7,
   "metadata": {
    "collapsed": true
   },
   "outputs": [],
   "source": [
    "raw_sed = raw_sed[:,:len(a)]"
   ]
  },
  {
   "cell_type": "markdown",
   "metadata": {},
   "source": [
    "### Calculate SED and $\\xi_{\\mathrm{ion}}$ for a single subhalo"
   ]
  },
  {
   "cell_type": "code",
   "execution_count": 34,
   "metadata": {
    "collapsed": false
   },
   "outputs": [],
   "source": [
    "subhalo = [subhalos[0]]\n",
    "\n",
    "sed = calculate_sed(subhalo, raw_sed, Z, a)[0] # ergs s^-1 Hz^-1 \n",
    "\n",
    "Lnu = sed * 1e-7 / 3.828e26 # L_{\\odot} Hz^-1"
   ]
  },
  {
   "cell_type": "code",
   "execution_count": 37,
   "metadata": {
    "collapsed": false
   },
   "outputs": [
    {
     "data": {
      "text/plain": [
       "(1e-12, 1e-09)"
      ]
     },
     "execution_count": 37,
     "metadata": {},
     "output_type": "execute_result"
    },
    {
     "data": {
      "image/png": "[encoded data removed]",
      "text/plain": [
       "<matplotlib.figure.Figure at 0x5d71510>"
      ]
     },
     "metadata": {},
     "output_type": "display_data"
    }
   ],
   "source": [
    "fig, ax = plt.subplots(1,1,figsize=(7,5))\n",
    "\n",
    "ax.loglog(wavelength * 1e4, Lnu)\n",
    "\n",
    "ax.set_xlabel('$\\AA$', size=20)\n",
    "ax.set_ylabel('$L_{\\\\nu}$', size=20)\n",
    "\n",
    "ax.vlines(912, 1e-12, 1e-9, linestyle='dashed', color='grey')\n",
    "\n",
    "ax.set_ylim(1e-12, 1e-9)\n",
    "# ax.set_xlim(0,2.5)"
   ]
  },
  {
   "cell_type": "markdown",
   "metadata": {},
   "source": [
    "Calculate $\\xi_{\\mathrm{ion}}$"
   ]
  },
  {
   "cell_type": "code",
   "execution_count": 40,
   "metadata": {
    "collapsed": false
   },
   "outputs": [
    {
     "data": {
      "text/plain": [
       "8.0320047530150715e+24"
      ]
     },
     "execution_count": 40,
     "metadata": {},
     "output_type": "execute_result"
    }
   ],
   "source": [
    "calculate_xi_ion(Lnu, frequency) # erg^-1 Hz"
   ]
  },
  {
   "cell_type": "markdown",
   "metadata": {},
   "source": [
    "### Calculate $\\xi_{\\mathrm{ion}}$ for all subhalos"
   ]
  },
  {
   "cell_type": "code",
   "execution_count": 43,
   "metadata": {
    "collapsed": true
   },
   "outputs": [],
   "source": [
    "sed = calculate_sed(subhalos, raw_sed, Z, a) # ergs s^-1 Hz^-1 \n",
    "\n",
    "Lnu = [s * 1e-7 / 3.828e26 for s in sed] # L_{\\odot} Hz^-1\n",
    "\n",
    "xi_ion = [calculate_xi_ion(lnu, frequency) for lnu in Lnu]"
   ]
  },
  {
   "cell_type": "code",
   "execution_count": 49,
   "metadata": {
    "collapsed": false
   },
   "outputs": [],
   "source": [
    "mstar = [np.log10(np.sum(subhalo['stellar mass']) * 1e6) for subhalo in subhalos]"
   ]
  },
  {
   "cell_type": "code",
   "execution_count": 52,
   "metadata": {
    "collapsed": false
   },
   "outputs": [
    {
     "data": {
      "text/plain": [
       "[<matplotlib.lines.Line2D at 0x661add0>]"
      ]
     },
     "execution_count": 52,
     "metadata": {},
     "output_type": "execute_result"
    },
    {
     "data": {
      "image/png": "[encoded data removed]",
      "text/plain": [
       "<matplotlib.figure.Figure at 0x6d08d90>"
      ]
     },
     "metadata": {},
     "output_type": "display_data"
    }
   ],
   "source": [
    "plt.plot(mstar, np.log10(xi_ion), '.')"
   ]
  },
  {
   "cell_type": "markdown",
   "metadata": {},
   "source": [
    "### Calculate $\\xi_{\\mathrm{ion}}$ for all SPS models"
   ]
  },
  {
   "cell_type": "code",
   "execution_count": null,
   "metadata": {
    "collapsed": false
   },
   "outputs": [
    {
     "name": "stdout",
     "output_type": "stream",
     "text": [
      "Model: BC03_Padova1994_Salpeter_lr\n",
      "Model: BPASSv2_imf135all_100\n",
      "Model: BPASSv2_imf135all_100-bin\n"
     ]
    }
   ],
   "source": [
    "xi_ion = [[] for i in range(len(models))]\n",
    "\n",
    "for i, model in enumerate(models):\n",
    "    \n",
    "    print \"Model:\",model\n",
    "    \n",
    "    data = pcl.load(open('../Input_SPS/model_pickles/'+model+'.p', 'rb'))#, encoding='latin1')\n",
    "  \n",
    "    raw_sed = data['SED'] # ergs s^-1 Hz^-1\n",
    "    Z = data['metallicities']  # metallicity\n",
    "    ages = data['ages']  # Myr\n",
    "    wavelength = data['lam'] # [ microns ]\n",
    "    frequency = c/(wavelength*1e-6)  # [ s^-1 ]\n",
    "    del(data)\n",
    "    \n",
    "    particle_ages = sim_age - (ages * 10**-3)  # convert to age in simulation snapshot\n",
    "\n",
    "    a = []\n",
    "    for p in particle_ages:  # convert to scale factor (to match particle values)\n",
    "        if(p > 0.0001):\n",
    "            a.append(1 / (1 + (z_at_value(Planck13.age, p * u.Gyr))))\n",
    "\n",
    "    a = np.array(a)\n",
    "\n",
    "    raw_sed = raw_sed[:,:len(a)]\n",
    "    \n",
    "    sed = calculate_sed(subhalos, raw_sed, Z, a) # ergs s^-1 Hz^-1 \n",
    "\n",
    "    Lnu = [s * 1e-7 / 3.828e26 for s in sed] # L_{\\odot} Hz^-1\n",
    "\n",
    "    xi_ion[i] = [calculate_xi_ion(lnu, frequency) for lnu in Lnu]\n",
    "    "
   ]
  },
  {
   "cell_type": "code",
   "execution_count": null,
   "metadata": {
    "collapsed": true
   },
   "outputs": [],
   "source": [
    "import pickle as pcl\n",
    "\n",
    "pcl.dump(xi_ion, open('xi_ion.p','w'))"
   ]
  },
  {
   "cell_type": "code",
   "execution_count": null,
   "metadata": {
    "collapsed": true
   },
   "outputs": [],
   "source": []
  },
  {
   "cell_type": "code",
   "execution_count": null,
   "metadata": {
    "collapsed": true
   },
   "outputs": [],
   "source": []
  },
  {
   "cell_type": "code",
   "execution_count": null,
   "metadata": {
    "collapsed": true
   },
   "outputs": [],
   "source": [
    "# Mass bins\n",
    "massBinLimits = np.linspace(7.1, 11.1, 21)\n",
    "massBins = np.logspace(7.2, 11.0, 20)\n",
    "\n",
    "median, dump, dump = sp.binned_statistic(imass, xi_ion, statistic=lambda y: np.percentile(y, 50), bins=10**massBinLimits)\n",
    "p16, dump, dump = sp.binned_statistic(imass, xi_ion, statistic=lambda y: np.percentile(y, 16), bins=10**massBinLimits)\n",
    "p84, dump, dump = sp.binned_statistic(imass, xi_ion, statistic=lambda y: np.percentile(y, 84), bins=10**massBinLimits)"
   ]
  },
  {
   "cell_type": "markdown",
   "metadata": {},
   "source": [
    "### ! Deprecated "
   ]
  },
  {
   "cell_type": "code",
   "execution_count": null,
   "metadata": {
    "collapsed": true
   },
   "outputs": [],
   "source": [
    "# plot xi_ion against stellar mass\n",
    "fig, ax = plt.subplots()\n",
    "\n",
    "# Remove top and right axes lines (\"spines\")\n",
    "spines_to_remove = ['top', 'right']\n",
    "for spine in spines_to_remove:\n",
    "    ax.spines[spine].set_visible(False)\n",
    "\n",
    "ax.xaxis.set_ticks_position('bottom')\n",
    "ax.yaxis.set_ticks_position('left')\n",
    "\n",
    "\n",
    "plt.semilogx(imass, np.log10(xi_ion), '.', alpha=0.5, c=color[0])\n",
    "\n",
    "mask = massBins < 5e9\n",
    "plt.errorbar(massBins[mask], np.log10(median[mask]), yerr=[np.log10(median[mask])-np.log10(p16[mask]), np.log10(p84[mask])-np.log10(median[mask])], linestyle='none', marker = 'o', c=color[3], zorder=32)\n",
    "\n",
    "plt.xlim(1.01e8, 1e10)\n",
    "\n",
    "plt.xlabel(r\"$M_{*} / M_{\\odot}$\")\n",
    "plt.ylabel(r\"$\\mathrm{log}_{10}(\\xi_{ion}/(\\mathrm{erg}^{-1} \\mathrm{Hz}))$\")\n",
    "\n",
    "plt.title('EAGLE LyC photon production efficiency, BPASSv2-bin$')\n",
    "\n",
    "#plt.show()\n",
    "\n",
    "plt.savefig('../../output/eagle_xi_ion.png', dpi=300)\n",
    "\n",
    "\n",
    "\n",
    "## ---- SPS models 6-subplot\n",
    "\n",
    "fig, ((ax1,ax2), (ax3,ax4), (ax5,ax6)) = plt.subplots(3, 2, figsize=(7,9), sharex=True, sharey=True)\n",
    "\n",
    "fig.subplots_adjust(wspace=0, hspace=0)\n",
    "\n",
    "fig.text(0.2, 0.93, 'EAGLE LyC photon production efficiency, z=8')\n",
    "\n",
    "fig.text(0.5, 0.04, r\"$M_{*} / M_{\\odot}$\", ha='center')\n",
    "fig.text(0.03, 0.5, r\"$\\mathrm{log}_{10}(\\xi_{ion}/(\\mathrm{erg}^{-1} \\mathrm{Hz}))$\", va='center', rotation='vertical')\n",
    "\n",
    "axes = [ax1,ax2,ax3,ax4,ax5,ax6]\n",
    "\n",
    "for model, model_pretty, ax in zip(models, models_pretty, axes):\n",
    "    data = pcl.load(open('ion_output/ion_'+model+'_'+tag+'.p','rb'))\n",
    "\n",
    "    Lnu = data['galaxy sed']\n",
    "    xi_ion = data['xi_ion']\n",
    "    imass = data['initial stellar mass'] * 1e6\n",
    "    mass = data['stellar mass'] * 1e6\n",
    "\n",
    "    median, dump, dump = sp.binned_statistic(imass, xi_ion, statistic='median', bins=10**massBinLimits)\n",
    "\n",
    "    def percentile16(y,p=10):\n",
    "        return(np.percentile(y,p))\n",
    "\n",
    "    def percentile84(y,p=84):\n",
    "        return(np.percentile(y,p))\n",
    "\n",
    "    p16, dump, dump = sp.binned_statistic(imass, xi_ion, statistic=percentile16, bins=10**massBinLimits)\n",
    "    p84, dump, dump = sp.binned_statistic(imass, xi_ion, statistic=percentile84, bins=10**massBinLimits)\n",
    "    \n",
    "    ax.set_xscale('log')\n",
    " \n",
    "    ax.plot(imass, np.log10(xi_ion), '.', alpha=0.5, c=color[0])\n",
    "\n",
    "    mask = massBins < 5e9\n",
    "    ax.errorbar(massBins[mask], np.log10(median[mask]), yerr=[np.log10(median[mask])-np.log10(p16[mask]), np.log10(p84[mask])-np.log10(median[mask])], linestyle='none', marker = 'o', c=color[3], zorder=32)\n",
    "    \n",
    "    ax.set_xlim(1.01e8, 9.8e9)\n",
    "    ax.set_ylim(25.01,26.3)\n",
    "\n",
    "    ax.annotate(model_pretty, xy=(1,0.05), xycoords='axes fraction', horizontalalignment='right')\n",
    "    \n",
    " \n",
    "plt.savefig('../../output/eagle_xi-ion_all-models.png', dpi=300)\n",
    "\n",
    "\n",
    "    \n",
    "    \n",
    "\n",
    "\n",
    " \n",
    "## ---- 2D histogram\n",
    "\n",
    "xbins = 10**np.linspace(8, 10, 20)\n",
    "ybins = np.linspace(25, 26, 15)\n",
    "\n",
    "counts, xedges, yedges = np.histogram2d(mass, np.log10(xi_ion), bins=([xbins, ybins]))\n",
    "\n",
    "extent = [yedges[0], yedges[-1], xedges[0], xedges[-1]]\n",
    "\n",
    "fig, ax = plt.subplots()\n",
    "#ax.pcolormesh(xbins, ybins, counts.T)\n",
    "\n",
    "levels = (1e1, 3e1, 1e2, 2e2)\n",
    "cset = contour(counts.T, levels, origin='lower', colors=['black', 'green', 'blue', 'red'], linewidths=(1.9, 1.6, 1.5, 1.4), extent=extent)\n",
    "\n",
    "#plt.clabel(cset, inline=1, fontsize=10, fmt='%1.0i')\n",
    "\n",
    "for c in cset.collections:\n",
    "    c.set_linestyle('solid')\n",
    "\n",
    "    ax.set_xscale('log')\n",
    " \n",
    "    plt.show()"
   ]
  },
  {
   "cell_type": "code",
   "execution_count": null,
   "metadata": {
    "collapsed": true
   },
   "outputs": [],
   "source": [
    "### xi_ion as a function of age\n",
    "fig, axes = plt.subplots(3,2,sharex='col', sharey='row')\n",
    "\n",
    "fig.text(0.5, 0.04, r\"$log_{10}$(age)\", ha='center')\n",
    "fig.text(0.03, 0.5, r\"$log_{10}(\\xi_{ion})$\", ha='center', rotation='vertical')\n",
    "\n",
    "for m,ax in zip(models,axes.flatten()):\n",
    "\n",
    "    data = pcl.load(open('../Input_SPS/model_pickles/'+m+'.p', 'rb'))#, encoding='latin1')\n",
    "\n",
    "    sed = data['SED'] # erg cm^-2 s^-1\n",
    "    Z = data['metallicities']  # metallicity\n",
    "    ages = data['ages']  # Myr\n",
    "    wavelength = data['lam']  # [ AA ]\n",
    "    frequency = c/(wavelength*1E-6)  # [ s^-1 ]\n",
    "        \n",
    "    # sum sed values for a given metallicity / age\n",
    "    \n",
    "    xi_ion = np.zeros(sed.shape[1])\n",
    "    \n",
    "    for j in xrange(sed.shape[0]):\n",
    "        for i in xrange(sed.shape[1]): \n",
    "            xi_ion[i] = np.log10(calculate_xi_ion(sed[j,i],frequency,1e9))\n",
    "        \n",
    "        ax.plot(np.log10(ages),xi_ion)\n",
    "\n",
    "    ax.annotate(m,xy=(-1,min(xi_ion)))\n"
   ]
  }
 ],
 "metadata": {
  "kernelspec": {
   "display_name": "Python 2",
   "language": "python",
   "name": "python2"
  },
  "language_info": {
   "codemirror_mode": {
    "name": "ipython",
    "version": 2
   },
   "file_extension": ".py",
   "mimetype": "text/x-python",
   "name": "python",
   "nbconvert_exporter": "python",
   "pygments_lexer": "ipython2",
   "version": "2.7.5"
  }
 },
 "nbformat": 4,
 "nbformat_minor": 2
}
