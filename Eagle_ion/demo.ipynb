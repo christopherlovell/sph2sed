{
 "cells": [
  {
   "cell_type": "markdown",
   "metadata": {},
   "source": [
    "## SED modelling\n",
    "\n",
    "Demo notebook on how to generate SED for subhalo based on stellar particle information, and optionally extract reionisation parameters."
   ]
  },
  {
   "cell_type": "code",
   "execution_count": 81,
   "metadata": {
    "collapsed": false
   },
   "outputs": [],
   "source": [
    "from eagle_ion_methods import update_weights\n",
    "from eagle_ion_methods import calculate_sed\n",
    "from eagle_ion_methods import calculate_xi_ion\n",
    "\n",
    "from bisect import bisect\n",
    "\n",
    "%matplotlib inline\n",
    "import matplotlib.pyplot as plt\n",
    "\n",
    "import matplotlib.gridspec as gridspec\n",
    "\n",
    "from matplotlib import rc\n",
    "rc('font',**{'family':'sans-serif','sans-serif':['Helvetica']})\n",
    "rc('text', usetex=True)\n",
    "\n",
    "from palettable.colorbrewer.qualitative import Set2_7\n",
    "\n",
    "\n",
    "import pickle as pcl\n",
    "import numpy as np\n",
    "\n",
    "import astropy.units as u\n",
    "from astropy.cosmology import Planck13, z_at_value\n",
    "\n",
    "import multiprocessing\n",
    "import sys\n",
    "\n",
    "from functools import partial\n",
    "\n",
    "import pickle as pcl\n",
    "\n",
    "from scipy.stats import binned_statistic"
   ]
  },
  {
   "cell_type": "code",
   "execution_count": 2,
   "metadata": {
    "collapsed": true
   },
   "outputs": [],
   "source": [
    "c = 2.99792E8"
   ]
  },
  {
   "cell_type": "markdown",
   "metadata": {},
   "source": [
    "Load Subhalo properties"
   ]
  },
  {
   "cell_type": "code",
   "execution_count": 3,
   "metadata": {
    "collapsed": true
   },
   "outputs": [],
   "source": [
    "tag = '004_z008p075' #'003_z008p988' #'005_z007p050' # \n",
    "\n",
    "data = pcl.load(open('subfind_output/subhalo_ids_'+tag+'.p','rb'))#, encoding='latin1')\n",
    "\n",
    "sim_z = data['header']['simulation redshift']\n",
    "sim_age = data['header']['simulation age']\n",
    "h = data['header']['hubble param']\n",
    "\n",
    "subhalos = data['data']\n",
    "\n",
    "del(data)"
   ]
  },
  {
   "cell_type": "markdown",
   "metadata": {},
   "source": [
    "Choose a single SPS model"
   ]
  },
  {
   "cell_type": "code",
   "execution_count": 110,
   "metadata": {
    "collapsed": true
   },
   "outputs": [],
   "source": [
    "models = ['BC03_Padova1994_Salpeter_lr', 'BPASSv2_imf135all_100', 'BPASSv2_imf135all_100-bin', \n",
    "          'P2_Salpeter_ng', 'M05_Salpeter_rhb', 'FSPS_default_Salpeter']\n",
    "\n",
    "models_pretty = ['BC03','BPASS','BPASS-bin','PEGASE.2','M05','FSPS']\n",
    "\n",
    "model = models[3]"
   ]
  },
  {
   "cell_type": "markdown",
   "metadata": {},
   "source": [
    "Load SED data for that SPS model"
   ]
  },
  {
   "cell_type": "code",
   "execution_count": 5,
   "metadata": {
    "collapsed": true
   },
   "outputs": [],
   "source": [
    "data = pcl.load(open('../Input_SPS/model_pickles/'+model+'.p', 'rb'))#, encoding='latin1')\n",
    "  \n",
    "raw_sed = data['SED'] # ergs s^-1 Hz^-1\n",
    "Z = data['metallicities']  # metallicity\n",
    "ages = data['ages']  # Myr\n",
    "wavelength = data['lam'] # [ microns ]\n",
    "frequency = c/(wavelength*1e-6)  # [ s^-1 ]\n",
    "del(data)"
   ]
  },
  {
   "cell_type": "markdown",
   "metadata": {},
   "source": [
    "calculate scale factor for all ages in SED tables"
   ]
  },
  {
   "cell_type": "code",
   "execution_count": 6,
   "metadata": {
    "collapsed": false
   },
   "outputs": [],
   "source": [
    "particle_ages = sim_age - (ages * 10**-3)  # convert to age in simulation snapshot\n",
    "\n",
    "a = []\n",
    "for p in particle_ages:  # convert to scale factor (to match particle values)\n",
    "    if(p > 0.0001):\n",
    "        a.append(1 / (1 + (z_at_value(Planck13.age, p * u.Gyr))))\n",
    "        \n",
    "a = np.array(a)"
   ]
  },
  {
   "cell_type": "markdown",
   "metadata": {},
   "source": [
    "filter by age values above 0"
   ]
  },
  {
   "cell_type": "code",
   "execution_count": 7,
   "metadata": {
    "collapsed": true
   },
   "outputs": [],
   "source": [
    "raw_sed = raw_sed[:,:len(a)]"
   ]
  },
  {
   "cell_type": "markdown",
   "metadata": {},
   "source": [
    "### Calculate SED and $\\xi_{\\mathrm{ion}}$ for a single subhalo"
   ]
  },
  {
   "cell_type": "code",
   "execution_count": 83,
   "metadata": {
    "collapsed": false
   },
   "outputs": [],
   "source": [
    "subhalo = [subhalos[0]]\n",
    "\n",
    "sed = calculate_sed(subhalo, raw_sed, Z, a)[0] # ergs s^-1 Hz^-1 \n",
    "\n",
    "Lnu = sed * 1e-7 / 3.828e26 # L_{\\odot} Hz^-1"
   ]
  },
  {
   "cell_type": "code",
   "execution_count": 86,
   "metadata": {
    "collapsed": false
   },
   "outputs": [
    {
     "data": {
      "text/plain": [
       "(1e-12, 1e-08)"
      ]
     },
     "execution_count": 86,
     "metadata": {},
     "output_type": "execute_result"
    },
    {
     "data": {
      "image/png": "[encoded data removed]",
      "text/plain": [
       "<matplotlib.figure.Figure at 0x89f3fd0>"
      ]
     },
     "metadata": {},
     "output_type": "display_data"
    }
   ],
   "source": [
    "fig, ax = plt.subplots(1,1,figsize=(7,5))\n",
    "\n",
    "ax.loglog(wavelength * 1e4, Lnu)\n",
    "\n",
    "ax.set_xlabel('$\\AA$', size=20)\n",
    "ax.set_ylabel('$L_{\\\\nu}$', size=20)\n",
    "\n",
    "ax.vlines(912, 1e-12, 1e-9, linestyle='dashed', color='grey')\n",
    "\n",
    "ax.set_ylim(1e-12, 1e-8)\n",
    "# ax.set_xlim(0,2.5)"
   ]
  },
  {
   "cell_type": "markdown",
   "metadata": {},
   "source": [
    "Calculate $\\xi_{\\mathrm{ion}}$"
   ]
  },
  {
   "cell_type": "code",
   "execution_count": 87,
   "metadata": {
    "collapsed": false
   },
   "outputs": [
    {
     "data": {
      "text/plain": [
       "3.7033588719644021e+25"
      ]
     },
     "execution_count": 87,
     "metadata": {},
     "output_type": "execute_result"
    }
   ],
   "source": [
    "calculate_xi_ion(Lnu, frequency) # erg^-1 Hz"
   ]
  },
  {
   "cell_type": "markdown",
   "metadata": {},
   "source": [
    "### Calculate $\\xi_{\\mathrm{ion}}$ for all subhalos"
   ]
  },
  {
   "cell_type": "code",
   "execution_count": 88,
   "metadata": {
    "collapsed": true
   },
   "outputs": [],
   "source": [
    "sed = calculate_sed(subhalos, raw_sed, Z, a) # ergs s^-1 Hz^-1 \n",
    "\n",
    "Lnu = [s * 1e-7 / 3.828e26 for s in sed] # L_{\\odot} Hz^-1\n",
    "\n",
    "xi_ion = [calculate_xi_ion(lnu, frequency) for lnu in Lnu]"
   ]
  },
  {
   "cell_type": "code",
   "execution_count": 97,
   "metadata": {
    "collapsed": false
   },
   "outputs": [],
   "source": [
    "mstar = [np.log10(np.sum(subhalo['stellar mass']) * 1e6) for subhalo in subhalos]"
   ]
  },
  {
   "cell_type": "code",
   "execution_count": 98,
   "metadata": {
    "collapsed": false,
    "scrolled": true
   },
   "outputs": [
    {
     "ename": "ValueError",
     "evalue": "x and y must have same first dimension, but have shapes (659,) and (6, 659)",
     "output_type": "error",
     "traceback": [
      "\u001b[0;31m---------------------------------------------------------------------------\u001b[0m",
      "\u001b[0;31mValueError\u001b[0m                                Traceback (most recent call last)",
      "\u001b[0;32m<ipython-input-98-71062434a596>\u001b[0m in \u001b[0;36m<module>\u001b[0;34m()\u001b[0m\n\u001b[0;32m----> 1\u001b[0;31m \u001b[0mplt\u001b[0m\u001b[0;34m.\u001b[0m\u001b[0mplot\u001b[0m\u001b[0;34m(\u001b[0m\u001b[0mmstar\u001b[0m\u001b[0;34m,\u001b[0m \u001b[0mnp\u001b[0m\u001b[0;34m.\u001b[0m\u001b[0mlog10\u001b[0m\u001b[0;34m(\u001b[0m\u001b[0mxi_ion\u001b[0m\u001b[0;34m)\u001b[0m\u001b[0;34m,\u001b[0m \u001b[0;34m'.'\u001b[0m\u001b[0;34m)\u001b[0m\u001b[0;34m\u001b[0m\u001b[0m\n\u001b[0m\u001b[1;32m      2\u001b[0m \u001b[0;34m\u001b[0m\u001b[0m\n\u001b[1;32m      3\u001b[0m \u001b[0mplt\u001b[0m\u001b[0;34m.\u001b[0m\u001b[0mxlabel\u001b[0m\u001b[0;34m(\u001b[0m\u001b[0;34m'$M_{*} / M_{\\odot}$'\u001b[0m\u001b[0;34m)\u001b[0m\u001b[0;34m\u001b[0m\u001b[0m\n\u001b[1;32m      4\u001b[0m \u001b[0mplt\u001b[0m\u001b[0;34m.\u001b[0m\u001b[0mylabel\u001b[0m\u001b[0;34m(\u001b[0m\u001b[0;34m'$\\\\xi_{\\mathrm{ion}}$'\u001b[0m\u001b[0;34m)\u001b[0m\u001b[0;34m\u001b[0m\u001b[0m\n",
      "\u001b[0;32m/home/c/cl/cl478/.local/lib/python2.7/site-packages/matplotlib/pyplot.pyc\u001b[0m in \u001b[0;36mplot\u001b[0;34m(*args, **kwargs)\u001b[0m\n\u001b[1;32m   3316\u001b[0m                       mplDeprecation)\n\u001b[1;32m   3317\u001b[0m     \u001b[0;32mtry\u001b[0m\u001b[0;34m:\u001b[0m\u001b[0;34m\u001b[0m\u001b[0m\n\u001b[0;32m-> 3318\u001b[0;31m         \u001b[0mret\u001b[0m \u001b[0;34m=\u001b[0m \u001b[0max\u001b[0m\u001b[0;34m.\u001b[0m\u001b[0mplot\u001b[0m\u001b[0;34m(\u001b[0m\u001b[0;34m*\u001b[0m\u001b[0margs\u001b[0m\u001b[0;34m,\u001b[0m \u001b[0;34m**\u001b[0m\u001b[0mkwargs\u001b[0m\u001b[0;34m)\u001b[0m\u001b[0;34m\u001b[0m\u001b[0m\n\u001b[0m\u001b[1;32m   3319\u001b[0m     \u001b[0;32mfinally\u001b[0m\u001b[0;34m:\u001b[0m\u001b[0;34m\u001b[0m\u001b[0m\n\u001b[1;32m   3320\u001b[0m         \u001b[0max\u001b[0m\u001b[0;34m.\u001b[0m\u001b[0m_hold\u001b[0m \u001b[0;34m=\u001b[0m \u001b[0mwashold\u001b[0m\u001b[0;34m\u001b[0m\u001b[0m\n",
      "\u001b[0;32m/home/c/cl/cl478/.local/lib/python2.7/site-packages/matplotlib/__init__.pyc\u001b[0m in \u001b[0;36minner\u001b[0;34m(ax, *args, **kwargs)\u001b[0m\n\u001b[1;32m   1890\u001b[0m                     warnings.warn(msg % (label_namer, func.__name__),\n\u001b[1;32m   1891\u001b[0m                                   RuntimeWarning, stacklevel=2)\n\u001b[0;32m-> 1892\u001b[0;31m             \u001b[0;32mreturn\u001b[0m \u001b[0mfunc\u001b[0m\u001b[0;34m(\u001b[0m\u001b[0max\u001b[0m\u001b[0;34m,\u001b[0m \u001b[0;34m*\u001b[0m\u001b[0margs\u001b[0m\u001b[0;34m,\u001b[0m \u001b[0;34m**\u001b[0m\u001b[0mkwargs\u001b[0m\u001b[0;34m)\u001b[0m\u001b[0;34m\u001b[0m\u001b[0m\n\u001b[0m\u001b[1;32m   1893\u001b[0m         \u001b[0mpre_doc\u001b[0m \u001b[0;34m=\u001b[0m \u001b[0minner\u001b[0m\u001b[0;34m.\u001b[0m\u001b[0m__doc__\u001b[0m\u001b[0;34m\u001b[0m\u001b[0m\n\u001b[1;32m   1894\u001b[0m         \u001b[0;32mif\u001b[0m \u001b[0mpre_doc\u001b[0m \u001b[0;32mis\u001b[0m \u001b[0mNone\u001b[0m\u001b[0;34m:\u001b[0m\u001b[0;34m\u001b[0m\u001b[0m\n",
      "\u001b[0;32m/home/c/cl/cl478/.local/lib/python2.7/site-packages/matplotlib/axes/_axes.pyc\u001b[0m in \u001b[0;36mplot\u001b[0;34m(self, *args, **kwargs)\u001b[0m\n\u001b[1;32m   1404\u001b[0m         \u001b[0mkwargs\u001b[0m \u001b[0;34m=\u001b[0m \u001b[0mcbook\u001b[0m\u001b[0;34m.\u001b[0m\u001b[0mnormalize_kwargs\u001b[0m\u001b[0;34m(\u001b[0m\u001b[0mkwargs\u001b[0m\u001b[0;34m,\u001b[0m \u001b[0m_alias_map\u001b[0m\u001b[0;34m)\u001b[0m\u001b[0;34m\u001b[0m\u001b[0m\n\u001b[1;32m   1405\u001b[0m \u001b[0;34m\u001b[0m\u001b[0m\n\u001b[0;32m-> 1406\u001b[0;31m         \u001b[0;32mfor\u001b[0m \u001b[0mline\u001b[0m \u001b[0;32min\u001b[0m \u001b[0mself\u001b[0m\u001b[0;34m.\u001b[0m\u001b[0m_get_lines\u001b[0m\u001b[0;34m(\u001b[0m\u001b[0;34m*\u001b[0m\u001b[0margs\u001b[0m\u001b[0;34m,\u001b[0m \u001b[0;34m**\u001b[0m\u001b[0mkwargs\u001b[0m\u001b[0;34m)\u001b[0m\u001b[0;34m:\u001b[0m\u001b[0;34m\u001b[0m\u001b[0m\n\u001b[0m\u001b[1;32m   1407\u001b[0m             \u001b[0mself\u001b[0m\u001b[0;34m.\u001b[0m\u001b[0madd_line\u001b[0m\u001b[0;34m(\u001b[0m\u001b[0mline\u001b[0m\u001b[0;34m)\u001b[0m\u001b[0;34m\u001b[0m\u001b[0m\n\u001b[1;32m   1408\u001b[0m             \u001b[0mlines\u001b[0m\u001b[0;34m.\u001b[0m\u001b[0mappend\u001b[0m\u001b[0;34m(\u001b[0m\u001b[0mline\u001b[0m\u001b[0;34m)\u001b[0m\u001b[0;34m\u001b[0m\u001b[0m\n",
      "\u001b[0;32m/home/c/cl/cl478/.local/lib/python2.7/site-packages/matplotlib/axes/_base.pyc\u001b[0m in \u001b[0;36m_grab_next_args\u001b[0;34m(self, *args, **kwargs)\u001b[0m\n\u001b[1;32m    405\u001b[0m                 \u001b[0;32mreturn\u001b[0m\u001b[0;34m\u001b[0m\u001b[0m\n\u001b[1;32m    406\u001b[0m             \u001b[0;32mif\u001b[0m \u001b[0mlen\u001b[0m\u001b[0;34m(\u001b[0m\u001b[0mremaining\u001b[0m\u001b[0;34m)\u001b[0m \u001b[0;34m<=\u001b[0m \u001b[0;36m3\u001b[0m\u001b[0;34m:\u001b[0m\u001b[0;34m\u001b[0m\u001b[0m\n\u001b[0;32m--> 407\u001b[0;31m                 \u001b[0;32mfor\u001b[0m \u001b[0mseg\u001b[0m \u001b[0;32min\u001b[0m \u001b[0mself\u001b[0m\u001b[0;34m.\u001b[0m\u001b[0m_plot_args\u001b[0m\u001b[0;34m(\u001b[0m\u001b[0mremaining\u001b[0m\u001b[0;34m,\u001b[0m \u001b[0mkwargs\u001b[0m\u001b[0;34m)\u001b[0m\u001b[0;34m:\u001b[0m\u001b[0;34m\u001b[0m\u001b[0m\n\u001b[0m\u001b[1;32m    408\u001b[0m                     \u001b[0;32myield\u001b[0m \u001b[0mseg\u001b[0m\u001b[0;34m\u001b[0m\u001b[0m\n\u001b[1;32m    409\u001b[0m                 \u001b[0;32mreturn\u001b[0m\u001b[0;34m\u001b[0m\u001b[0m\n",
      "\u001b[0;32m/home/c/cl/cl478/.local/lib/python2.7/site-packages/matplotlib/axes/_base.pyc\u001b[0m in \u001b[0;36m_plot_args\u001b[0;34m(self, tup, kwargs)\u001b[0m\n\u001b[1;32m    383\u001b[0m             \u001b[0mx\u001b[0m\u001b[0;34m,\u001b[0m \u001b[0my\u001b[0m \u001b[0;34m=\u001b[0m \u001b[0mindex_of\u001b[0m\u001b[0;34m(\u001b[0m\u001b[0mtup\u001b[0m\u001b[0;34m[\u001b[0m\u001b[0;34m-\u001b[0m\u001b[0;36m1\u001b[0m\u001b[0;34m]\u001b[0m\u001b[0;34m)\u001b[0m\u001b[0;34m\u001b[0m\u001b[0m\n\u001b[1;32m    384\u001b[0m \u001b[0;34m\u001b[0m\u001b[0m\n\u001b[0;32m--> 385\u001b[0;31m         \u001b[0mx\u001b[0m\u001b[0;34m,\u001b[0m \u001b[0my\u001b[0m \u001b[0;34m=\u001b[0m \u001b[0mself\u001b[0m\u001b[0;34m.\u001b[0m\u001b[0m_xy_from_xy\u001b[0m\u001b[0;34m(\u001b[0m\u001b[0mx\u001b[0m\u001b[0;34m,\u001b[0m \u001b[0my\u001b[0m\u001b[0;34m)\u001b[0m\u001b[0;34m\u001b[0m\u001b[0m\n\u001b[0m\u001b[1;32m    386\u001b[0m \u001b[0;34m\u001b[0m\u001b[0m\n\u001b[1;32m    387\u001b[0m         \u001b[0;32mif\u001b[0m \u001b[0mself\u001b[0m\u001b[0;34m.\u001b[0m\u001b[0mcommand\u001b[0m \u001b[0;34m==\u001b[0m \u001b[0;34m'plot'\u001b[0m\u001b[0;34m:\u001b[0m\u001b[0;34m\u001b[0m\u001b[0m\n",
      "\u001b[0;32m/home/c/cl/cl478/.local/lib/python2.7/site-packages/matplotlib/axes/_base.pyc\u001b[0m in \u001b[0;36m_xy_from_xy\u001b[0;34m(self, x, y)\u001b[0m\n\u001b[1;32m    242\u001b[0m         \u001b[0;32mif\u001b[0m \u001b[0mx\u001b[0m\u001b[0;34m.\u001b[0m\u001b[0mshape\u001b[0m\u001b[0;34m[\u001b[0m\u001b[0;36m0\u001b[0m\u001b[0;34m]\u001b[0m \u001b[0;34m!=\u001b[0m \u001b[0my\u001b[0m\u001b[0;34m.\u001b[0m\u001b[0mshape\u001b[0m\u001b[0;34m[\u001b[0m\u001b[0;36m0\u001b[0m\u001b[0;34m]\u001b[0m\u001b[0;34m:\u001b[0m\u001b[0;34m\u001b[0m\u001b[0m\n\u001b[1;32m    243\u001b[0m             raise ValueError(\"x and y must have same first dimension, but \"\n\u001b[0;32m--> 244\u001b[0;31m                              \"have shapes {} and {}\".format(x.shape, y.shape))\n\u001b[0m\u001b[1;32m    245\u001b[0m         \u001b[0;32mif\u001b[0m \u001b[0mx\u001b[0m\u001b[0;34m.\u001b[0m\u001b[0mndim\u001b[0m \u001b[0;34m>\u001b[0m \u001b[0;36m2\u001b[0m \u001b[0;32mor\u001b[0m \u001b[0my\u001b[0m\u001b[0;34m.\u001b[0m\u001b[0mndim\u001b[0m \u001b[0;34m>\u001b[0m \u001b[0;36m2\u001b[0m\u001b[0;34m:\u001b[0m\u001b[0;34m\u001b[0m\u001b[0m\n\u001b[1;32m    246\u001b[0m             raise ValueError(\"x and y can be no greater than 2-D, but have \"\n",
      "\u001b[0;31mValueError\u001b[0m: x and y must have same first dimension, but have shapes (659,) and (6, 659)"
     ]
    },
    {
     "data": {
      "image/png": "[encoded data removed]",
      "text/plain": [
       "<matplotlib.figure.Figure at 0x89f7990>"
      ]
     },
     "metadata": {},
     "output_type": "display_data"
    }
   ],
   "source": [
    "plt.plot(mstar, np.log10(xi_ion), '.')\n",
    "\n",
    "plt.xlabel('$M_{*} / M_{\\odot}$')\n",
    "plt.ylabel('$\\\\xi_{\\mathrm{ion}}$')"
   ]
  },
  {
   "cell_type": "markdown",
   "metadata": {},
   "source": [
    "### Calculate $\\xi_{\\mathrm{ion}}$ for all SPS models"
   ]
  },
  {
   "cell_type": "code",
   "execution_count": 55,
   "metadata": {
    "collapsed": false
   },
   "outputs": [
    {
     "name": "stdout",
     "output_type": "stream",
     "text": [
      "Model: BC03_Padova1994_Salpeter_lr\n",
      "Model: BPASSv2_imf135all_100\n",
      "Model: BPASSv2_imf135all_100-bin\n",
      "Model: P2_Salpeter_ng\n",
      "Model: M05_Salpeter_rhb\n",
      "Model: FSPS_default_Salpeter\n"
     ]
    }
   ],
   "source": [
    "xi_ion = [[] for i in range(len(models))]\n",
    "\n",
    "for i, model in enumerate(models):\n",
    "    \n",
    "    print \"Model:\",model\n",
    "    \n",
    "    data = pcl.load(open('../Input_SPS/model_pickles/'+model+'.p', 'rb'))#, encoding='latin1')\n",
    "  \n",
    "    raw_sed = data['SED'] # ergs s^-1 Hz^-1\n",
    "    Z = data['metallicities']  # metallicity\n",
    "    ages = data['ages']  # Myr\n",
    "    wavelength = data['lam'] # [ microns ]\n",
    "    frequency = c/(wavelength*1e-6)  # [ s^-1 ]\n",
    "    del(data)\n",
    "    \n",
    "    particle_ages = sim_age - (ages * 10**-3)  # convert to age in simulation snapshot\n",
    "\n",
    "    a = []\n",
    "    for p in particle_ages:  # convert to scale factor (to match particle values)\n",
    "        if(p > 0.0001):\n",
    "            a.append(1 / (1 + (z_at_value(Planck13.age, p * u.Gyr))))\n",
    "\n",
    "    a = np.array(a)\n",
    "\n",
    "    raw_sed = raw_sed[:,:len(a)]\n",
    "    \n",
    "    sed = calculate_sed(subhalos, raw_sed, Z, a) # ergs s^-1 Hz^-1 \n",
    "\n",
    "    Lnu = [s * 1e-7 / 3.828e26 for s in sed] # L_{\\odot} Hz^-1\n",
    "\n",
    "    xi_ion[i] = [calculate_xi_ion(lnu, frequency) for lnu in Lnu]\n",
    "    "
   ]
  },
  {
   "cell_type": "code",
   "execution_count": 91,
   "metadata": {
    "collapsed": true
   },
   "outputs": [],
   "source": [
    "# pcl.dump(xi_ion, open('xi_ion.p','w'))\n",
    "xi_ion = pcl.load(open('xi_ion.p','r'))"
   ]
  },
  {
   "cell_type": "code",
   "execution_count": 99,
   "metadata": {
    "collapsed": false
   },
   "outputs": [],
   "source": [
    "mstar = [np.log10(np.sum(subhalo['stellar mass']) * 1e6) for subhalo in subhalos]"
   ]
  },
  {
   "cell_type": "code",
   "execution_count": 100,
   "metadata": {
    "collapsed": true
   },
   "outputs": [],
   "source": [
    "massBinLimits = np.linspace(7.1, 11.1, 21)\n",
    "massBins = np.logspace(7.2, 11.0, 20)"
   ]
  },
  {
   "cell_type": "code",
   "execution_count": 115,
   "metadata": {
    "collapsed": false
   },
   "outputs": [
    {
     "data": {
      "image/png": "[encoded data removed]",
      "text/plain": [
       "<matplotlib.figure.Figure at 0x92451d0>"
      ]
     },
     "metadata": {},
     "output_type": "display_data"
    }
   ],
   "source": [
    "fig, ((ax1,ax2), (ax3,ax4), (ax5,ax6)) = plt.subplots(3, 2, figsize=(7,9), sharex=True, sharey=True)\n",
    "\n",
    "fig.subplots_adjust(wspace=0, hspace=0)\n",
    "\n",
    "fig.text(0.5, 0.04, \"$M_{*} / M_{\\odot}$\", ha='center')\n",
    "fig.text(0.03, 0.5, \"$\\mathrm{log_{10}}( \\\\xi_{ion} / (\\mathrm{erg}^{-1} \\mathrm{Hz}))$\", \n",
    "         va='center', rotation='vertical')\n",
    "\n",
    "axes = [ax1,ax2,ax3,ax4,ax5,ax6]\n",
    "\n",
    "for model, pretty, xi, ax in zip(models, models_pretty, xi_ion, axes):\n",
    "\n",
    "    median, dump, dump = binned_statistic(mstar, xi, statistic='median', bins=10**massBinLimits)\n",
    "    p16, dump, dump = binned_statistic(mstar, xi, statistic=lambda y: np.percentile(y, 16), bins=10**massBinLimits)\n",
    "    p84, dump, dump = binned_statistic(mstar, xi, statistic=lambda y: np.percentile(y, 84), bins=10**massBinLimits)\n",
    "    \n",
    "    ax.set_xscale('log')\n",
    " \n",
    "    ax.plot(mstar, np.log10(xi), '.', alpha=0.5)\n",
    "\n",
    "    mask = massBins < 5e9\n",
    "    ax.errorbar(massBins[mask], np.log10(median[mask]), \n",
    "                yerr=[np.log10(median[mask])-np.log10(p16[mask]), \n",
    "                np.log10(p84[mask])-np.log10(median[mask])], \n",
    "                linestyle='none', marker = 'o', zorder=32)\n",
    "    \n",
    "    ax.set_xlim(8, 10)\n",
    "    ax.set_ylim(24.8,25.8)\n",
    "\n",
    "    ax.annotate(pretty, xy=(0.96,0.05), xycoords='axes fraction', horizontalalignment='right', color='grey')\n",
    "    \n"
   ]
  },
  {
   "cell_type": "code",
   "execution_count": null,
   "metadata": {
    "collapsed": true
   },
   "outputs": [],
   "source": []
  },
  {
   "cell_type": "markdown",
   "metadata": {},
   "source": [
    "### ! Deprecated "
   ]
  },
  {
   "cell_type": "code",
   "execution_count": null,
   "metadata": {
    "collapsed": true
   },
   "outputs": [],
   "source": [
    "## ---- 2D histogram\n",
    "\n",
    "xbins = 10**np.linspace(8, 10, 20)\n",
    "ybins = np.linspace(25, 26, 15)\n",
    "\n",
    "counts, xedges, yedges = np.histogram2d(mass, np.log10(xi_ion), bins=([xbins, ybins]))\n",
    "\n",
    "extent = [yedges[0], yedges[-1], xedges[0], xedges[-1]]\n",
    "\n",
    "fig, ax = plt.subplots()\n",
    "#ax.pcolormesh(xbins, ybins, counts.T)\n",
    "\n",
    "levels = (1e1, 3e1, 1e2, 2e2)\n",
    "cset = contour(counts.T, levels, origin='lower', colors=['black', 'green', 'blue', 'red'], linewidths=(1.9, 1.6, 1.5, 1.4), extent=extent)\n",
    "\n",
    "#plt.clabel(cset, inline=1, fontsize=10, fmt='%1.0i')\n",
    "\n",
    "for c in cset.collections:\n",
    "    c.set_linestyle('solid')\n",
    "\n",
    "    ax.set_xscale('log')\n",
    " \n",
    "    plt.show()"
   ]
  },
  {
   "cell_type": "code",
   "execution_count": null,
   "metadata": {
    "collapsed": true
   },
   "outputs": [],
   "source": [
    "### xi_ion as a function of age\n",
    "fig, axes = plt.subplots(3,2,sharex='col', sharey='row')\n",
    "\n",
    "fig.text(0.5, 0.04, r\"$log_{10}$(age)\", ha='center')\n",
    "fig.text(0.03, 0.5, r\"$log_{10}(\\xi_{ion})$\", ha='center', rotation='vertical')\n",
    "\n",
    "for m,ax in zip(models,axes.flatten()):\n",
    "\n",
    "    data = pcl.load(open('../Input_SPS/model_pickles/'+m+'.p', 'rb'))#, encoding='latin1')\n",
    "\n",
    "    sed = data['SED'] # erg cm^-2 s^-1\n",
    "    Z = data['metallicities']  # metallicity\n",
    "    ages = data['ages']  # Myr\n",
    "    wavelength = data['lam']  # [ AA ]\n",
    "    frequency = c/(wavelength*1E-6)  # [ s^-1 ]\n",
    "        \n",
    "    # sum sed values for a given metallicity / age\n",
    "    \n",
    "    xi_ion = np.zeros(sed.shape[1])\n",
    "    \n",
    "    for j in xrange(sed.shape[0]):\n",
    "        for i in xrange(sed.shape[1]): \n",
    "            xi_ion[i] = np.log10(calculate_xi_ion(sed[j,i],frequency,1e9))\n",
    "        \n",
    "        ax.plot(np.log10(ages),xi_ion)\n",
    "\n",
    "    ax.annotate(m,xy=(-1,min(xi_ion)))\n"
   ]
  }
 ],
 "metadata": {
  "kernelspec": {
   "display_name": "Python 2",
   "language": "python",
   "name": "python2"
  },
  "language_info": {
   "codemirror_mode": {
    "name": "ipython",
    "version": 2
   },
   "file_extension": ".py",
   "mimetype": "text/x-python",
   "name": "python",
   "nbconvert_exporter": "python",
   "pygments_lexer": "ipython2",
   "version": "2.7.5"
  }
 },
 "nbformat": 4,
 "nbformat_minor": 2
}
